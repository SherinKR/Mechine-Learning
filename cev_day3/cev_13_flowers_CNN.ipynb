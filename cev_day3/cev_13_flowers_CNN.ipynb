{
 "cells": [
  {
   "cell_type": "markdown",
   "metadata": {},
   "source": [
    "# Convolutional Neural Networks (CNN) and Transfer Learning (TL)"
   ]
  },
  {
   "cell_type": "code",
   "execution_count": null,
   "metadata": {
    "colab": {},
    "colab_type": "code",
    "id": "bcROm2AiC1NP"
   },
   "outputs": [],
   "source": [
    "# Original dataset\n",
    "# http://download.tensorflow.org/example_images/flower_photos.tgz \n",
    "\n",
    "# Download tiny version of the dataset from VisionCog website\n",
    "# After download and unzip, remember to comment the following two lines. \n",
    "\n",
    "#!wget https://www.visioncog.com/rpk/tiny_FR.zip\n",
    "#!unzip tiny_FR.zip"
   ]
  },
  {
   "cell_type": "code",
   "execution_count": null,
   "metadata": {
    "colab": {
     "base_uri": "https://localhost:8080/",
     "height": 51
    },
    "colab_type": "code",
    "id": "i50f6ZExFHlu",
    "outputId": "84552b65-ddca-426d-f3a5-60b2298b7011"
   },
   "outputs": [],
   "source": [
    "# Install TensorFlow\n",
    "try:\n",
    "  # %tensorflow_version only exists in Colab.\n",
    "  %tensorflow_version 2.x\n",
    "except Exception:\n",
    "  pass\n",
    "\n",
    "import tensorflow as tf\n",
    "print(tf.__version__)\n",
    "\n",
    "from tensorflow import keras\n",
    "tf.random.set_seed(42)\n",
    "\n",
    "import numpy as np\n",
    "np.random.seed(42)\n",
    "\n",
    "import matplotlib.pyplot as plt\n",
    "%matplotlib inline\n",
    "\n",
    "import glob\n",
    "import PIL\n",
    "from PIL import Image"
   ]
  },
  {
   "cell_type": "code",
   "execution_count": null,
   "metadata": {
    "colab": {
     "base_uri": "https://localhost:8080/",
     "height": 102
    },
    "colab_type": "code",
    "id": "lfxIc_9xFzbF",
    "outputId": "50501961-0eee-4a50-b284-206d10fe4e05"
   },
   "outputs": [],
   "source": [
    "imgFiles = glob.glob(\"tiny_FR/*/*.jpg\")\n",
    "for items in imgFiles[:5]:\n",
    "  print(items)"
   ]
  },
  {
   "cell_type": "code",
   "execution_count": null,
   "metadata": {
    "colab": {
     "base_uri": "https://localhost:8080/",
     "height": 34
    },
    "colab_type": "code",
    "id": "QyuoTY4-F7HU",
    "outputId": "b72c18e1-d658-4737-fea1-9386e4a1e5a5"
   },
   "outputs": [],
   "source": [
    "print(len(imgFiles))"
   ]
  },
  {
   "cell_type": "code",
   "execution_count": null,
   "metadata": {
    "colab": {},
    "colab_type": "code",
    "id": "Dslrk1trGSTv"
   },
   "outputs": [],
   "source": [
    "X = []\n",
    "y = []\n",
    "\n",
    "for fName in imgFiles:\n",
    "  \n",
    "  X_i = Image.open(fName) # tiny_FR/sunflower/1715303025_e7065327e2.jpg (500, 333)\n",
    "  X_i = X_i.resize((299,299)) # To make them approriate to Xception model when using Transfer Learning \n",
    "  X_i = np.array(X_i) / 255.0 # Normalize to range 0.0 to 1.0 (not stretching, only scaling)\n",
    "\n",
    "  X.append(X_i)\n",
    "\n",
    "  label = fName.split(\"/\") # ['tiny_FR', 'sunflower', '1715303025_e7065327e2.jpg']\n",
    "  y_i = label[1] # 'sunflower'\n",
    "\n",
    "  y.append(y_i)"
   ]
  },
  {
   "cell_type": "code",
   "execution_count": null,
   "metadata": {
    "colab": {
     "base_uri": "https://localhost:8080/",
     "height": 34
    },
    "colab_type": "code",
    "id": "LNqM8JWbGmwh",
    "outputId": "5a30c76f-222a-49e1-f961-aed3b3ec2f77"
   },
   "outputs": [],
   "source": [
    "print(set(y))"
   ]
  },
  {
   "cell_type": "code",
   "execution_count": null,
   "metadata": {
    "colab": {
     "base_uri": "https://localhost:8080/",
     "height": 51
    },
    "colab_type": "code",
    "id": "qcuefYVoIGD1",
    "outputId": "f74243ec-146e-4161-f89a-dc4dc4ee5532"
   },
   "outputs": [],
   "source": [
    "from sklearn.preprocessing import LabelEncoder\n",
    "lEncoder = LabelEncoder()\n",
    "y = lEncoder.fit_transform(y)\n",
    "\n",
    "print(set(y))\n",
    "print(lEncoder.classes_)"
   ]
  },
  {
   "cell_type": "code",
   "execution_count": null,
   "metadata": {
    "colab": {
     "base_uri": "https://localhost:8080/",
     "height": 51
    },
    "colab_type": "code",
    "id": "yHv3_SLyIYMn",
    "outputId": "a10145e4-7909-496c-9df9-b9662c3774fc"
   },
   "outputs": [],
   "source": [
    "X = np.array(X)\n",
    "y = np.array(y)\n",
    "\n",
    "print(X.shape)\n",
    "print(y.shape)"
   ]
  },
  {
   "cell_type": "markdown",
   "metadata": {},
   "source": [
    "## To be filled by participants"
   ]
  },
  {
   "cell_type": "code",
   "execution_count": null,
   "metadata": {
    "colab": {
     "base_uri": "https://localhost:8080/",
     "height": 51
    },
    "colab_type": "code",
    "id": "m_z60X-xIhym",
    "outputId": "5032dee7-0170-460f-b7db-41b38227ad77"
   },
   "outputs": [],
   "source": [
    "# Write code to split the data into 80% training and 20% testing\n"
   ]
  },
  {
   "cell_type": "code",
   "execution_count": null,
   "metadata": {
    "colab": {},
    "colab_type": "code",
    "id": "ORAH8jJHI8S8"
   },
   "outputs": [],
   "source": [
    "mu = X_train.mean()\n",
    "std = X_train.std()\n",
    "\n",
    "X_train_std = (X_train-mu)/std\n",
    "X_test_std = (X_test-mu)/std"
   ]
  },
  {
   "cell_type": "markdown",
   "metadata": {},
   "source": [
    "## To be filled by participants"
   ]
  },
  {
   "cell_type": "code",
   "execution_count": null,
   "metadata": {
    "colab": {},
    "colab_type": "code",
    "id": "d8ByDPuNJLKV"
   },
   "outputs": [],
   "source": [
    "# Create the network using Functional API method\n",
    "# Fill in the number of filters for convolution part and \n",
    "# number of units for DNN part.\n",
    "\n",
    "input_ = keras.layers.Input(shape = X_train.shape[1:])\n",
    "\n",
    "x = keras.layers.Conv2D(filters=, kernel_size=5, padding='same', activation='relu')(input_)\n",
    "x = keras.layers.MaxPool2D(pool_size=2)(x)\n",
    "x = keras.layers.Conv2D(filters=, kernel_size=3, padding='same', activation='relu')(x)\n",
    "x = keras.layers.MaxPool2D(pool_size=2)(x)\n",
    "\n",
    "x = keras.layers.Flatten()(x)\n",
    "x = keras.layers.Dense(units=, activation='relu')(x)\n",
    "x = keras.layers.Dense(units=, activation='relu')(x)\n",
    "\n",
    "output_ = keras.layers.Dense(units=, activation='softmax')(x)\n",
    "\n",
    "# How the inputs and outputs arguments should be passed?\n",
    "model_CNN = keras.models.Model(inputs=, outputs=)"
   ]
  },
  {
   "cell_type": "code",
   "execution_count": null,
   "metadata": {
    "colab": {
     "base_uri": "https://localhost:8080/",
     "height": 459
    },
    "colab_type": "code",
    "id": "buBFbbNpJSn5",
    "outputId": "6b203e59-c4ed-4d27-f89c-fcfaa4e375fa"
   },
   "outputs": [],
   "source": [
    "model_CNN.summary()"
   ]
  },
  {
   "cell_type": "markdown",
   "metadata": {},
   "source": [
    "## To be filled by participants"
   ]
  },
  {
   "cell_type": "code",
   "execution_count": null,
   "metadata": {
    "colab": {
     "base_uri": "https://localhost:8080/",
     "height": 938
    },
    "colab_type": "code",
    "id": "l38Yh77JJUqy",
    "outputId": "dccfa0b2-f0db-42ad-a8c1-7ddabc53c6e2"
   },
   "outputs": [],
   "source": [
    "# Compile the network with appropriate settings for loss, optimizer and metrics.\n",
    "model_CNN.compile(loss=, \n",
    "                  optimizer=, metrics=)\n",
    "\n",
    "\n",
    "history_CNN = model_CNN.fit(x=, y=, epochs=, \n",
    "                            validation_split=, batch_size=)"
   ]
  },
  {
   "cell_type": "code",
   "execution_count": null,
   "metadata": {
    "colab": {
     "base_uri": "https://localhost:8080/",
     "height": 283
    },
    "colab_type": "code",
    "id": "S6zjGHK6JcgR",
    "outputId": "71fcae1b-083a-40ab-8dcf-40abb6f84f5e"
   },
   "outputs": [],
   "source": [
    "keys = ['accuracy', 'val_accuracy']\n",
    "progress = {k:v for k,v in history_CNN.history.items() if k in keys}\n",
    "\n",
    "import pandas as pd\n",
    "pd.DataFrame(progress).plot()\n",
    "\n",
    "plt.xlabel(\"epochs\")\n",
    "plt.ylabel(\"accuracy\")\n",
    "\n",
    "plt.grid(True)\n",
    "plt.show()"
   ]
  },
  {
   "cell_type": "markdown",
   "metadata": {},
   "source": [
    "## To be filled by participants"
   ]
  },
  {
   "cell_type": "code",
   "execution_count": null,
   "metadata": {
    "colab": {
     "base_uri": "https://localhost:8080/",
     "height": 71
    },
    "colab_type": "code",
    "id": "-_fYMwzsLMTa",
    "outputId": "49046a42-bbb8-432e-d504-1d48fc740de3"
   },
   "outputs": [],
   "source": [
    "# Pass the appropriate arguments for evaluate function.\n",
    "test_loss, test_accuracy = model_CNN.evaluate()\n",
    "\n",
    "print(\"Test-loss: %f, Test-accuracy: %f\" % (test_loss, test_accuracy))"
   ]
  },
  {
   "cell_type": "markdown",
   "metadata": {
    "colab_type": "text",
    "id": "cgfwJD9ELjwB"
   },
   "source": [
    "# Transfer Learning using Xception"
   ]
  },
  {
   "cell_type": "code",
   "execution_count": null,
   "metadata": {
    "colab": {},
    "colab_type": "code",
    "id": "sEPod7J3Ldo5"
   },
   "outputs": [],
   "source": [
    "base_model = keras.applications.xception.Xception(weights='imagenet', \n",
    "                                                  include_top=False)\n",
    "\n",
    "for layer in base_model.layers:\n",
    "  layer.trainabe = False\n",
    "\n",
    "global_pool = keras.layers.GlobalAveragePooling2D()(base_model.output)\n",
    "output_ = keras.layers.Dense(units=5, activation='softmax')(global_pool)\n",
    "\n",
    "model_TL = keras.models.Model(inputs=[base_model.input], outputs=[output_])"
   ]
  },
  {
   "cell_type": "markdown",
   "metadata": {},
   "source": [
    "## To be filled by participants"
   ]
  },
  {
   "cell_type": "code",
   "execution_count": null,
   "metadata": {
    "colab": {
     "base_uri": "https://localhost:8080/",
     "height": 938
    },
    "colab_type": "code",
    "id": "Ddai63a_Lrb0",
    "outputId": "5cccaac6-7288-4f5a-ef57-a3f6879a7300"
   },
   "outputs": [],
   "source": [
    "# Compile the network with appropriate settings for loss, optimizer and metrics.\n",
    "model_TL.compile(loss=, optimize=, metrics=)\n",
    "\n",
    "# Set x, y, number of epochs, validation percentage and batch size \n",
    "history_TL = model_TL.fit(x =, y =, epochs=, \n",
    "                          validation_split=, batch_size=)"
   ]
  },
  {
   "cell_type": "code",
   "execution_count": null,
   "metadata": {
    "colab": {
     "base_uri": "https://localhost:8080/",
     "height": 283
    },
    "colab_type": "code",
    "id": "mbb9XojKL1JF",
    "outputId": "698bfd28-67d0-4db6-e3c1-553333aab94c"
   },
   "outputs": [],
   "source": [
    "keys = ['accuracy', 'val_accuracy']\n",
    "progress = {k:v for k,v in history_TL.history.items() if k in keys}\n",
    "\n",
    "import pandas as pd\n",
    "pd.DataFrame(progress).plot()\n",
    "\n",
    "plt.xlabel(\"epochs\")\n",
    "plt.ylabel(\"accuracy\")\n",
    "\n",
    "plt.grid(True)\n",
    "plt.show()"
   ]
  },
  {
   "cell_type": "markdown",
   "metadata": {},
   "source": [
    "## To be filled by participants"
   ]
  },
  {
   "cell_type": "code",
   "execution_count": null,
   "metadata": {
    "colab": {
     "base_uri": "https://localhost:8080/",
     "height": 71
    },
    "colab_type": "code",
    "id": "aTMuC8vvPqip",
    "outputId": "35dfefd2-6198-4405-a12b-5756b451ca37"
   },
   "outputs": [],
   "source": [
    "# Pass the appropriate arguments for evaluate function.\n",
    "testLoss_TL, testAccuracy_TL = model_TL.evaluate(x=, y=)\n",
    "\n",
    "print(\"Test-loss: %f, Test-accuracy: %f\" % (testLoss_TL, testAccuracy_TL))"
   ]
  }
 ],
 "metadata": {
  "accelerator": "GPU",
  "colab": {
   "name": "flowers_CNN_TL.ipynb",
   "provenance": [],
   "toc_visible": true
  },
  "kernelspec": {
   "display_name": "Python 3",
   "language": "python",
   "name": "python3"
  },
  "language_info": {
   "codemirror_mode": {
    "name": "ipython",
    "version": 3
   },
   "file_extension": ".py",
   "mimetype": "text/x-python",
   "name": "python",
   "nbconvert_exporter": "python",
   "pygments_lexer": "ipython3",
   "version": "3.7.4"
  },
  "toc": {
   "base_numbering": 1,
   "nav_menu": {},
   "number_sections": true,
   "sideBar": true,
   "skip_h1_title": true,
   "title_cell": "Table of Contents",
   "title_sidebar": "Contents",
   "toc_cell": false,
   "toc_position": {},
   "toc_section_display": true,
   "toc_window_display": true
  }
 },
 "nbformat": 4,
 "nbformat_minor": 1
}
