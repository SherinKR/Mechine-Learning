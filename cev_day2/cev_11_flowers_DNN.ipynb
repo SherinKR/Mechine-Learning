{
 "cells": [
  {
   "cell_type": "markdown",
   "metadata": {},
   "source": [
    "# Deep Neural Networks (DNN)"
   ]
  },
  {
   "cell_type": "code",
   "execution_count": null,
   "metadata": {
    "colab": {},
    "colab_type": "code",
    "id": "6aNIoBTZKSAq"
   },
   "outputs": [],
   "source": [
    "# Original dataset\n",
    "# http://download.tensorflow.org/example_images/flower_photos.tgz \n",
    "\n",
    "# Download tiny version of the dataset from VisionCog website\n",
    "# After download and unzip, remember to comment the following two lines. \n",
    "\n",
    "#!wget https://www.visioncog.com/rpk/tiny_FR.zip\n",
    "#!unzip tiny_FR.zip"
   ]
  },
  {
   "cell_type": "markdown",
   "metadata": {
    "colab_type": "text",
    "id": "d3z1rwLSRyh3"
   },
   "source": [
    "# Flower Classification"
   ]
  },
  {
   "cell_type": "code",
   "execution_count": null,
   "metadata": {
    "colab": {
     "base_uri": "https://localhost:8080/",
     "height": 51
    },
    "colab_type": "code",
    "id": "znLO1DCzK7Kw",
    "outputId": "afc653d2-989c-4e04-c522-7412341cf625"
   },
   "outputs": [],
   "source": [
    "# Install TensorFlow\n",
    "try:\n",
    "  # %tensorflow_version only exists in Colab.\n",
    "  %tensorflow_version 2.x\n",
    "except Exception:\n",
    "  pass\n",
    "\n",
    "import tensorflow as tf\n",
    "print(tf.__version__)\n",
    "\n",
    "from tensorflow import keras\n",
    "tf.random.set_seed(42)\n",
    "\n",
    "import numpy as np\n",
    "np.random.seed(42)\n",
    "\n",
    "import matplotlib.pyplot as plt\n",
    "%matplotlib inline\n",
    "\n",
    "import glob\n",
    "import PIL\n",
    "from PIL import Image"
   ]
  },
  {
   "cell_type": "code",
   "execution_count": null,
   "metadata": {
    "colab": {
     "base_uri": "https://localhost:8080/",
     "height": 102
    },
    "colab_type": "code",
    "id": "xq21xG28Lb7u",
    "outputId": "e4256a44-553e-4d9b-cac3-401d6f9b72aa"
   },
   "outputs": [],
   "source": [
    "imgFiles = glob.glob(\"tiny_FR/*/*.jpg\")\n",
    "for items in imgFiles[:5]:\n",
    "  print(items)"
   ]
  },
  {
   "cell_type": "code",
   "execution_count": null,
   "metadata": {
    "colab": {},
    "colab_type": "code",
    "id": "FMjvRsyJLfLm"
   },
   "outputs": [],
   "source": [
    "X = []\n",
    "y = []\n",
    "\n",
    "for fName in imgFiles:\n",
    "  \n",
    "  X_i = Image.open(fName) # tiny_FR/sunflower/1715303025_e7065327e2.jpg (500, 333)\n",
    "  X_i = X_i.resize((299,299)) # To make them approriate to Xception model when using Transfer Learning \n",
    "  X_i = np.array(X_i) / 255.0 # Normalize to range 0.0 to 1.0 (not stretching, only scaling)\n",
    "\n",
    "  X.append(X_i)\n",
    "\n",
    "  label = fName.split(\"/\") # ['tiny_FR', 'sunflower', '1715303025_e7065327e2.jpg']\n",
    "  y_i = label[1] # 'sunflower'\n",
    "\n",
    "  y.append(y_i)"
   ]
  },
  {
   "cell_type": "code",
   "execution_count": null,
   "metadata": {
    "colab": {
     "base_uri": "https://localhost:8080/",
     "height": 34
    },
    "colab_type": "code",
    "id": "HDx51_C6Ljvm",
    "outputId": "567800bb-086a-48b5-e46a-91a8f249d7f6"
   },
   "outputs": [],
   "source": [
    "print(set(y))"
   ]
  },
  {
   "cell_type": "code",
   "execution_count": null,
   "metadata": {
    "colab": {
     "base_uri": "https://localhost:8080/",
     "height": 51
    },
    "colab_type": "code",
    "id": "cAtReEUBLmbV",
    "outputId": "d5562142-3148-4f3b-81d5-bc4c793dc134"
   },
   "outputs": [],
   "source": [
    "from sklearn.preprocessing import LabelEncoder\n",
    "lEncoder = LabelEncoder()\n",
    "y = lEncoder.fit_transform(y)\n",
    "\n",
    "print(set(y))\n",
    "print(lEncoder.classes_)"
   ]
  },
  {
   "cell_type": "code",
   "execution_count": null,
   "metadata": {
    "colab": {
     "base_uri": "https://localhost:8080/",
     "height": 51
    },
    "colab_type": "code",
    "id": "t5t9d-m8Loy9",
    "outputId": "9a9d3653-2d31-4218-9759-9d93f0e0b215"
   },
   "outputs": [],
   "source": [
    "X = np.array(X)\n",
    "y = np.array(y)\n",
    "\n",
    "print(X.shape)\n",
    "print(y.shape)"
   ]
  },
  {
   "cell_type": "markdown",
   "metadata": {},
   "source": [
    "## To be filled by participants"
   ]
  },
  {
   "cell_type": "code",
   "execution_count": null,
   "metadata": {
    "colab": {
     "base_uri": "https://localhost:8080/",
     "height": 51
    },
    "colab_type": "code",
    "id": "jC2wqF-qLqcN",
    "outputId": "6937132e-cfbe-4b26-ef2b-b60760dc4b45"
   },
   "outputs": [],
   "source": [
    "from sklearn.model_selection import train_test_split\n",
    "\n",
    "# Split the data into 80% training and 20% testing.\n",
    "# Make stratified split of the data.\n",
    "X_train, X_test, y_train, y_test = train_test_split(X, y, test_size=, \n",
    "                                                    stratify=, random_state=42)\n",
    "\n",
    "print(\"X_train_shape: {}\".format(X_train.shape))\n",
    "print(\"X_test_shape: {}\".format(X_test.shape))"
   ]
  },
  {
   "cell_type": "code",
   "execution_count": null,
   "metadata": {
    "colab": {},
    "colab_type": "code",
    "id": "CTfYQwEzLsCd"
   },
   "outputs": [],
   "source": [
    "mu = X_train.mean()\n",
    "std = X_train.std()\n",
    "\n",
    "X_train_std = (X_train-mu)/std\n",
    "X_test_std = (X_test-mu)/std"
   ]
  },
  {
   "cell_type": "markdown",
   "metadata": {},
   "source": [
    "## To be filled by participants"
   ]
  },
  {
   "cell_type": "code",
   "execution_count": null,
   "metadata": {
    "colab": {},
    "colab_type": "code",
    "id": "zrHWTARpLtmW"
   },
   "outputs": [],
   "source": [
    "# Create the network using Functional API method\n",
    "# The first hidden layer should contain 1000 neurons,\n",
    "# Second hidden layer should contain 100 neurons.\n",
    "\n",
    "input_ = keras.layers.Input(shape = X_train.shape[1:])\n",
    "\n",
    "x = keras.layers.Flatten()(input_)\n",
    "x = keras.layers.Dense(units=, activation='relu')(x)\n",
    "x = keras.layers.Dense(units=, activation='relu')(x)\n",
    "\n",
    "output_ = keras.layers.Dense(units=, activation='softmax')(x)\n",
    "\n",
    "# How the inputs and outputs arguments should be passed?\n",
    "model_DNN = keras.models.Model(inputs=, outputs=)"
   ]
  },
  {
   "cell_type": "code",
   "execution_count": null,
   "metadata": {
    "colab": {
     "base_uri": "https://localhost:8080/",
     "height": 323
    },
    "colab_type": "code",
    "id": "J-45uZzJL1Ta",
    "outputId": "904214ef-fc4a-4342-a2ae-960e5e2e78db"
   },
   "outputs": [],
   "source": [
    "model_DNN.summary()"
   ]
  },
  {
   "cell_type": "markdown",
   "metadata": {},
   "source": [
    "## To be filled by participants\n"
   ]
  },
  {
   "cell_type": "code",
   "execution_count": null,
   "metadata": {
    "colab": {
     "base_uri": "https://localhost:8080/",
     "height": 938
    },
    "colab_type": "code",
    "id": "gRxEixbCL3Pu",
    "outputId": "460b1569-75db-4200-c760-0f316168798b"
   },
   "outputs": [],
   "source": [
    "model_DNN.compile(loss='sparse_categorical_crossentropy', \n",
    "                  optimizer='adam', metrics=['accuracy'])\n",
    "\n",
    "# Set x, y, number of epochs, validation percentage and batch size \n",
    "history_DNN = model_DNN.fit(x=, y=, epochs=, \n",
    "                            validation_split=, batch_size=)"
   ]
  },
  {
   "cell_type": "code",
   "execution_count": null,
   "metadata": {
    "colab": {
     "base_uri": "https://localhost:8080/",
     "height": 283
    },
    "colab_type": "code",
    "id": "uMABG9QXMB9Y",
    "outputId": "6e8ba892-b276-44b8-ccc6-1ca0882235b4"
   },
   "outputs": [],
   "source": [
    "keys = ['accuracy', 'val_accuracy']\n",
    "progress = {k:v for k,v in history_DNN.history.items() if k in keys}\n",
    "\n",
    "import pandas as pd\n",
    "pd.DataFrame(progress).plot()\n",
    "\n",
    "plt.xlabel(\"epochs\")\n",
    "plt.ylabel(\"accuracy\")\n",
    "\n",
    "plt.grid(True)\n",
    "plt.show()"
   ]
  },
  {
   "cell_type": "markdown",
   "metadata": {},
   "source": [
    "## To be filled by participants"
   ]
  },
  {
   "cell_type": "code",
   "execution_count": null,
   "metadata": {
    "colab": {
     "base_uri": "https://localhost:8080/",
     "height": 71
    },
    "colab_type": "code",
    "id": "X2DGy2h-MUb7",
    "outputId": "0bce4fbe-4519-4352-c104-adff8b7389e7"
   },
   "outputs": [],
   "source": [
    "# Pass the appropriate arguments for evaluate function.\n",
    "test_loss, test_accuracy = model_DNN.evaluate(X_test, y_test)\n",
    "\n",
    "print(\"Test-loss: %f, Test-accuracy: %f\" % (test_loss, test_accuracy))"
   ]
  }
 ],
 "metadata": {
  "accelerator": "GPU",
  "colab": {
   "name": "flowers_DNN.ipynb",
   "provenance": []
  },
  "kernelspec": {
   "display_name": "Python 3",
   "language": "python",
   "name": "python3"
  },
  "language_info": {
   "codemirror_mode": {
    "name": "ipython",
    "version": 3
   },
   "file_extension": ".py",
   "mimetype": "text/x-python",
   "name": "python",
   "nbconvert_exporter": "python",
   "pygments_lexer": "ipython3",
   "version": "3.7.4"
  },
  "toc": {
   "base_numbering": 1,
   "nav_menu": {},
   "number_sections": true,
   "sideBar": true,
   "skip_h1_title": true,
   "title_cell": "Table of Contents",
   "title_sidebar": "Contents",
   "toc_cell": false,
   "toc_position": {},
   "toc_section_display": true,
   "toc_window_display": true
  }
 },
 "nbformat": 4,
 "nbformat_minor": 1
}
